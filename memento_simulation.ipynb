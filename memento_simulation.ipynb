{
 "cells": [
  {
   "cell_type": "code",
   "execution_count": 47,
   "metadata": {},
   "outputs": [],
   "source": [
    "import numpy as np\n",
    "import scipy.stats as stats\n",
    "from scipy.signal import peak_widths, find_peaks\n",
    "import matplotlib.pyplot as plt\n",
    "import matplotlib.ticker as mticker\n",
    "import itertools\n",
    "from tqdm.contrib.itertools import product\n",
    "import pandas as pd\n",
    "from matplotlib.collections import LineCollection\n",
    "from memento import *\n",
    "from scipy.optimize import curve_fit\n",
    "\n",
    "\n"
   ]
  },
  {
   "cell_type": "code",
   "execution_count": 30,
   "metadata": {},
   "outputs": [
    {
     "data": {
      "text/plain": [
       "(30.0, 120.0)"
      ]
     },
     "execution_count": 30,
     "metadata": {},
     "output_type": "execute_result"
    },
    {
     "data": {
      "image/png": "[encoded data removed]",
      "text/plain": [
       "<Figure size 1440x360 with 2 Axes>"
      ]
     },
     "metadata": {
      "needs_background": "light"
     },
     "output_type": "display_data"
    }
   ],
   "source": [
    "layer_sizes = [100, 100, 100, 100, 100, 100]\n",
    "kappas = [50, 40, 30, 10, 4]       \n",
    "# kappas = [10, 10, 10]      \n",
    "k_input = 20\n",
    "recurrence = 'cosine2'\n",
    "\n",
    "n_timesteps=500\n",
    "stim_on=500\n",
    "\n",
    "results = {}\n",
    "\n",
    "# Initialize model\n",
    "model = DynaToy(layer_sizes)\n",
    "model.W_ff_0 = 0.03\n",
    "model.W_fb_0 = 0.03\n",
    "\n",
    "## FEED FORWARD\n",
    "# Init Model Weights\n",
    "model.W_r_0 = [0, 0, 0, 0, 0, 0]\n",
    "model.W, W_L = model.init_weights(plot = False, kappas = kappas, return_matrices=True, recurrence = recurrence)\n",
    "# input\n",
    "h = vonmises_input(model, k_input, input_layer = 'in')\n",
    "h = h/np.linalg.norm(h)\n",
    "# simulate\n",
    "_, T_ff, W_ff, A_ff = simulate(model, n_timesteps, stim_on, h)\n",
    "\n",
    "# Reset model\n",
    "model.reset()\n",
    "\n",
    "## FEED BACK BASELINE\n",
    "# Init Model Weights\n",
    "model.W_r_0 = [0, 0, 0, 0, 0, 0]\n",
    "model.W, W_L = model.init_weights(plot = False, kappas = kappas, return_matrices=True, recurrence = recurrence)\n",
    "## feed back input\n",
    "h = vonmises_input(model, k_input, input_layer = 'out')\n",
    "h = h / np.linalg.norm(h) / 3\n",
    "# simulate\n",
    "_, T_fb_0, W_fb_0, A_fb_0 = simulate(model, n_timesteps, stim_on, h)\n",
    "\n",
    "\n",
    "\n",
    "# Reset model\n",
    "model.reset()\n",
    "\n",
    "## FEED BACK \n",
    "# Init Model Weights\n",
    "model.W_r_0 = [0, 0, 0, 0, 0, 0] # Similar results to near far split: [0, 0, 4, 1, 0, 0]\n",
    "model.W, W_L = model.init_weights(plot = False, kappas = kappas, return_matrices=True, recurrence = recurrence)\n",
    "## feed back input\n",
    "h = vonmises_input(model, k_input, input_layer = 'out')\n",
    "h = h / np.linalg.norm(h) / 3\n",
    "# simulate\n",
    "_, T_fb, W_fb, A_fb = simulate(model, n_timesteps, stim_on, h)\n",
    "\n",
    "\n",
    "fig, axs = plt.subplots(1, 2, figsize = [20, 5])\n",
    "\n",
    "axs[1].scatter(x = range(len(model.layer_sizes) - 2), y=W_ff[1:-1, stim_on-1], color = 'black', marker = 's')\n",
    "axs[1].scatter(x = range(len(model.layer_sizes) - 2), y=W_fb_0[1:-1, stim_on-1], facecolors = 'none', edgecolors = 'lightseagreen', marker = 'D', linewidth =1.5)\n",
    "axs[1].scatter(x = range(len(model.layer_sizes) - 2), y=W_fb[1:-1, stim_on-1], facecolors = 'none',  edgecolors = 'magenta', marker = 'D', linewidth = 1.5)\n",
    "axs[0].scatter(x = range(len(model.layer_sizes) - 2), y=A_ff[1:-1, stim_on-1], color = 'black', marker = 's')\n",
    "axs[0].scatter(x = range(len(model.layer_sizes) - 2), y=A_fb_0[1:-1, stim_on-1], facecolors = 'none',  edgecolors = 'lightseagreen', marker = 'D')\n",
    "axs[0].scatter(x = range(len(model.layer_sizes) - 2), y=A_fb[1:-1, stim_on-1], facecolors = 'none',  edgecolors = 'magenta', marker = 'D')\n",
    "\n",
    "axs[1].set_ylim([30, 120])\n",
    "\n",
    "\n",
    "\n",
    "\n",
    "\n"
   ]
  },
  {
   "cell_type": "code",
   "execution_count": 39,
   "metadata": {},
   "outputs": [
    {
     "name": "stdout",
     "output_type": "stream",
     "text": [
      "[3.16929216e-04 4.53724300e-01 1.42719008e-03] 0.33682981725793115\n"
     ]
    },
    {
     "name": "stderr",
     "output_type": "stream",
     "text": [
      "/var/folders/86/mx5k0dps5gb_vlv7mwrrymd00000gn/T/ipykernel_1291/3565261852.py:2: RuntimeWarning: overflow encountered in exp\n",
      "  y = (1 / (1 + np.exp(-k * (x - x0)))) + np.log(c)\n"
     ]
    },
    {
     "data": {
      "text/plain": [
       "[<matplotlib.lines.Line2D at 0x14b31fdc0>]"
      ]
     },
     "execution_count": 39,
     "metadata": {},
     "output_type": "execute_result"
    },
    {
     "data": {
      "image/png": "[encoded data removed]",
      "text/plain": [
       "<Figure size 432x288 with 1 Axes>"
      ]
     },
     "metadata": {
      "needs_background": "light"
     },
     "output_type": "display_data"
    }
   ],
   "source": [
    "ydata  = A_fb[0].copy()\n",
    "ydata /= ydata.max()\n",
    "\n",
    "l_popt, l_pcov = curve_fit(logistic, xdata=np.arange(0, n_timesteps, 1), ydata=ydata, maxfev=5000)\n",
    "l_perr = np.sqrt(np.diag(l_pcov))\n",
    "\n",
    "\n",
    "l_hat = logistic(np.arange(0, n_timesteps, 1), *l_popt)\n",
    "\n",
    "\n",
    "l_err = np.sum(np.square(l_hat - ydata))\n",
    "\n",
    "\n",
    "print(l_perr, l_err)\n",
    "plt.plot(ydata)\n",
    "\n",
    "plt.plot(l_hat)"
   ]
  },
  {
   "cell_type": "code",
   "execution_count": 41,
   "metadata": {},
   "outputs": [
    {
     "data": {
      "text/plain": [
       "(600, 500)"
      ]
     },
     "execution_count": 41,
     "metadata": {},
     "output_type": "execute_result"
    }
   ],
   "source": [
    "T_fb.shape"
   ]
  },
  {
   "cell_type": "code",
   "execution_count": 31,
   "metadata": {},
   "outputs": [],
   "source": [
    "# Reset model\n",
    "model.reset()\n",
    "\n",
    "## FEED BACK \n",
    "# Init Model Weights\n",
    "model.W_r_0 = [0, 0, 0, 0, 0, 0] # Similar results to near far split: [0, 0, 4, 1, 0, 0]\n",
    "model.W, W_L = model.init_weights(plot = False, kappas = kappas, return_matrices=True, recurrence = recurrence)\n",
    "## feed back input\n",
    "h = vonmises_input(model, k_input, input_layer = 'out')\n",
    "h = h / np.linalg.norm(h) / 3\n",
    "# simulate\n",
    "_, T_fb, W_fb, A_fb = simulate(model, n_timesteps, stim_on, h)"
   ]
  },
  {
   "cell_type": "code",
   "execution_count": 37,
   "metadata": {},
   "outputs": [
    {
     "data": {
      "text/plain": [
       "50625"
      ]
     },
     "execution_count": 37,
     "metadata": {},
     "output_type": "execute_result"
    }
   ],
   "source": [
    "15**4"
   ]
  },
  {
   "cell_type": "code",
   "execution_count": 48,
   "metadata": {},
   "outputs": [
    {
     "data": {
      "application/vnd.jupyter.widget-view+json": {
       "model_id": "ef042abc8b1f4bd988df791ed76a7734",
       "version_major": 2,
       "version_minor": 0
      },
      "text/plain": [
       "  0%|          | 0/16000000 [00:00<?, ?it/s]"
      ]
     },
     "metadata": {},
     "output_type": "display_data"
    }
   ],
   "source": [
    "R_1 = np.linspace(-2, 5, 200)\n",
    "R_2 = np.linspace(-2, 5, 200)\n",
    "R_3 = np.linspace(-2, 5, 20)\n",
    "R_4 = np.linspace(-2, 5, 20)\n",
    "\n",
    "\n",
    "# Initialize model\n",
    "model = DynaToy(layer_sizes)\n",
    "model.W_ff_0 = 0.03\n",
    "model.W_fb_0 = 0.03\n",
    "\n",
    "rows = []\n",
    "# Loop through\n",
    "i=0\n",
    "for keys in product(R_1, R_2, R_3, R_4):\n",
    "    i+=1"
   ]
  },
  {
   "cell_type": "code",
   "execution_count": null,
   "metadata": {},
   "outputs": [],
   "source": []
  }
 ],
 "metadata": {
  "kernelspec": {
   "display_name": "interstellar",
   "language": "python",
   "name": "python3"
  },
  "language_info": {
   "codemirror_mode": {
    "name": "ipython",
    "version": 3
   },
   "file_extension": ".py",
   "mimetype": "text/x-python",
   "name": "python",
   "nbconvert_exporter": "python",
   "pygments_lexer": "ipython3",
   "version": "3.10.4"
  }
 },
 "nbformat": 4,
 "nbformat_minor": 2
}
